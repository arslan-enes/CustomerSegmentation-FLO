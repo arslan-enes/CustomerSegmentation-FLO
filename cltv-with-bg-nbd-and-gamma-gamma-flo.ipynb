{
 "cells": [
  {
   "cell_type": "code",
   "execution_count": 1,
   "id": "f1440741",
   "metadata": {
    "_cell_guid": "b1076dfc-b9ad-4769-8c92-a6c4dae69d19",
    "_uuid": "8f2839f25d086af736a60e9eeb907d3b93b6e0e5",
    "execution": {
     "iopub.execute_input": "2022-07-06T14:42:40.908841Z",
     "iopub.status.busy": "2022-07-06T14:42:40.908076Z",
     "iopub.status.idle": "2022-07-06T14:42:55.589037Z",
     "shell.execute_reply": "2022-07-06T14:42:55.587585Z"
    },
    "papermill": {
     "duration": 14.692496,
     "end_time": "2022-07-06T14:42:55.591850",
     "exception": false,
     "start_time": "2022-07-06T14:42:40.899354",
     "status": "completed"
    },
    "tags": []
   },
   "outputs": [
    {
     "name": "stdout",
     "output_type": "stream",
     "text": [
      "Collecting lifetimes\r\n",
      "  Downloading Lifetimes-0.11.3-py3-none-any.whl (584 kB)\r\n",
      "\u001b[2K     \u001b[90m━━━━━━━━━━━━━━━━━━━━━━━━━━━━━━━━━━━━━\u001b[0m \u001b[32m584.2/584.2 kB\u001b[0m \u001b[31m804.2 kB/s\u001b[0m eta \u001b[36m0:00:00\u001b[0m\r\n",
      "\u001b[?25hRequirement already satisfied: numpy>=1.10.0 in /opt/conda/lib/python3.7/site-packages (from lifetimes) (1.21.6)\r\n",
      "Requirement already satisfied: scipy>=1.0.0 in /opt/conda/lib/python3.7/site-packages (from lifetimes) (1.7.3)\r\n",
      "Requirement already satisfied: pandas>=0.24.0 in /opt/conda/lib/python3.7/site-packages (from lifetimes) (1.3.5)\r\n",
      "Collecting autograd>=1.2.0\r\n",
      "  Downloading autograd-1.4-py3-none-any.whl (48 kB)\r\n",
      "\u001b[2K     \u001b[90m━━━━━━━━━━━━━━━━━━━━━━━━━━━━━━━━━━━━━━━━\u001b[0m \u001b[32m48.8/48.8 kB\u001b[0m \u001b[31m2.6 MB/s\u001b[0m eta \u001b[36m0:00:00\u001b[0m\r\n",
      "\u001b[?25hRequirement already satisfied: dill>=0.2.6 in /opt/conda/lib/python3.7/site-packages (from lifetimes) (0.3.5.1)\r\n",
      "Requirement already satisfied: future>=0.15.2 in /opt/conda/lib/python3.7/site-packages (from autograd>=1.2.0->lifetimes) (0.18.2)\r\n",
      "Requirement already satisfied: python-dateutil>=2.7.3 in /opt/conda/lib/python3.7/site-packages (from pandas>=0.24.0->lifetimes) (2.8.2)\r\n",
      "Requirement already satisfied: pytz>=2017.3 in /opt/conda/lib/python3.7/site-packages (from pandas>=0.24.0->lifetimes) (2022.1)\r\n",
      "Requirement already satisfied: six>=1.5 in /opt/conda/lib/python3.7/site-packages (from python-dateutil>=2.7.3->pandas>=0.24.0->lifetimes) (1.16.0)\r\n",
      "Installing collected packages: autograd, lifetimes\r\n",
      "Successfully installed autograd-1.4 lifetimes-0.11.3\r\n",
      "\u001b[33mWARNING: Running pip as the 'root' user can result in broken permissions and conflicting behaviour with the system package manager. It is recommended to use a virtual environment instead: https://pip.pypa.io/warnings/venv\u001b[0m\u001b[33m\r\n",
      "\u001b[0m"
     ]
    }
   ],
   "source": [
    "!pip install lifetimes\n",
    "import datetime as dt\n",
    "import pandas as pd\n",
    "import matplotlib.pyplot as plt\n",
    "from lifetimes import BetaGeoFitter\n",
    "from lifetimes import GammaGammaFitter\n",
    "from lifetimes.plotting import plot_period_transactions\n",
    "\n",
    "pd.set_option('display.max_columns', None)\n",
    "pd.set_option('display.width', 500)\n",
    "pd.set_option('display.float_format', lambda x: '%.4f' % x)\n",
    "from sklearn.preprocessing import MinMaxScaler"
   ]
  },
  {
   "cell_type": "code",
   "execution_count": 2,
   "id": "84ac18ac",
   "metadata": {
    "execution": {
     "iopub.execute_input": "2022-07-06T14:42:55.609245Z",
     "iopub.status.busy": "2022-07-06T14:42:55.608571Z",
     "iopub.status.idle": "2022-07-06T14:42:55.724286Z",
     "shell.execute_reply": "2022-07-06T14:42:55.723002Z"
    },
    "papermill": {
     "duration": 0.127127,
     "end_time": "2022-07-06T14:42:55.726748",
     "exception": false,
     "start_time": "2022-07-06T14:42:55.599621",
     "status": "completed"
    },
    "tags": []
   },
   "outputs": [
    {
     "data": {
      "text/html": [
       "<div>\n",
       "<style scoped>\n",
       "    .dataframe tbody tr th:only-of-type {\n",
       "        vertical-align: middle;\n",
       "    }\n",
       "\n",
       "    .dataframe tbody tr th {\n",
       "        vertical-align: top;\n",
       "    }\n",
       "\n",
       "    .dataframe thead th {\n",
       "        text-align: right;\n",
       "    }\n",
       "</style>\n",
       "<table border=\"1\" class=\"dataframe\">\n",
       "  <thead>\n",
       "    <tr style=\"text-align: right;\">\n",
       "      <th></th>\n",
       "      <th>master_id</th>\n",
       "      <th>order_channel</th>\n",
       "      <th>last_order_channel</th>\n",
       "      <th>first_order_date</th>\n",
       "      <th>last_order_date</th>\n",
       "      <th>last_order_date_online</th>\n",
       "      <th>last_order_date_offline</th>\n",
       "      <th>order_num_total_ever_online</th>\n",
       "      <th>order_num_total_ever_offline</th>\n",
       "      <th>customer_value_total_ever_offline</th>\n",
       "      <th>customer_value_total_ever_online</th>\n",
       "      <th>interested_in_categories_12</th>\n",
       "    </tr>\n",
       "  </thead>\n",
       "  <tbody>\n",
       "    <tr>\n",
       "      <th>0</th>\n",
       "      <td>cc294636-19f0-11eb-8d74-000d3a38a36f</td>\n",
       "      <td>Android App</td>\n",
       "      <td>Offline</td>\n",
       "      <td>2020-10-30</td>\n",
       "      <td>2021-02-26</td>\n",
       "      <td>2021-02-21</td>\n",
       "      <td>2021-02-26</td>\n",
       "      <td>4.0000</td>\n",
       "      <td>1.0000</td>\n",
       "      <td>139.9900</td>\n",
       "      <td>799.3800</td>\n",
       "      <td>[KADIN]</td>\n",
       "    </tr>\n",
       "    <tr>\n",
       "      <th>1</th>\n",
       "      <td>f431bd5a-ab7b-11e9-a2fc-000d3a38a36f</td>\n",
       "      <td>Android App</td>\n",
       "      <td>Mobile</td>\n",
       "      <td>2017-02-08</td>\n",
       "      <td>2021-02-16</td>\n",
       "      <td>2021-02-16</td>\n",
       "      <td>2020-01-10</td>\n",
       "      <td>19.0000</td>\n",
       "      <td>2.0000</td>\n",
       "      <td>159.9700</td>\n",
       "      <td>1853.5800</td>\n",
       "      <td>[ERKEK, COCUK, KADIN, AKTIFSPOR]</td>\n",
       "    </tr>\n",
       "    <tr>\n",
       "      <th>2</th>\n",
       "      <td>69b69676-1a40-11ea-941b-000d3a38a36f</td>\n",
       "      <td>Android App</td>\n",
       "      <td>Android App</td>\n",
       "      <td>2019-11-27</td>\n",
       "      <td>2020-11-27</td>\n",
       "      <td>2020-11-27</td>\n",
       "      <td>2019-12-01</td>\n",
       "      <td>3.0000</td>\n",
       "      <td>2.0000</td>\n",
       "      <td>189.9700</td>\n",
       "      <td>395.3500</td>\n",
       "      <td>[ERKEK, KADIN]</td>\n",
       "    </tr>\n",
       "    <tr>\n",
       "      <th>3</th>\n",
       "      <td>1854e56c-491f-11eb-806e-000d3a38a36f</td>\n",
       "      <td>Android App</td>\n",
       "      <td>Android App</td>\n",
       "      <td>2021-01-06</td>\n",
       "      <td>2021-01-17</td>\n",
       "      <td>2021-01-17</td>\n",
       "      <td>2021-01-06</td>\n",
       "      <td>1.0000</td>\n",
       "      <td>1.0000</td>\n",
       "      <td>39.9900</td>\n",
       "      <td>81.9800</td>\n",
       "      <td>[AKTIFCOCUK, COCUK]</td>\n",
       "    </tr>\n",
       "    <tr>\n",
       "      <th>4</th>\n",
       "      <td>d6ea1074-f1f5-11e9-9346-000d3a38a36f</td>\n",
       "      <td>Desktop</td>\n",
       "      <td>Desktop</td>\n",
       "      <td>2019-08-03</td>\n",
       "      <td>2021-03-07</td>\n",
       "      <td>2021-03-07</td>\n",
       "      <td>2019-08-03</td>\n",
       "      <td>1.0000</td>\n",
       "      <td>1.0000</td>\n",
       "      <td>49.9900</td>\n",
       "      <td>159.9900</td>\n",
       "      <td>[AKTIFSPOR]</td>\n",
       "    </tr>\n",
       "  </tbody>\n",
       "</table>\n",
       "</div>"
      ],
      "text/plain": [
       "                              master_id order_channel last_order_channel first_order_date last_order_date last_order_date_online last_order_date_offline  order_num_total_ever_online  order_num_total_ever_offline  customer_value_total_ever_offline  customer_value_total_ever_online       interested_in_categories_12\n",
       "0  cc294636-19f0-11eb-8d74-000d3a38a36f   Android App            Offline       2020-10-30      2021-02-26             2021-02-21              2021-02-26                       4.0000                        1.0000                           139.9900                          799.3800                           [KADIN]\n",
       "1  f431bd5a-ab7b-11e9-a2fc-000d3a38a36f   Android App             Mobile       2017-02-08      2021-02-16             2021-02-16              2020-01-10                      19.0000                        2.0000                           159.9700                         1853.5800  [ERKEK, COCUK, KADIN, AKTIFSPOR]\n",
       "2  69b69676-1a40-11ea-941b-000d3a38a36f   Android App        Android App       2019-11-27      2020-11-27             2020-11-27              2019-12-01                       3.0000                        2.0000                           189.9700                          395.3500                    [ERKEK, KADIN]\n",
       "3  1854e56c-491f-11eb-806e-000d3a38a36f   Android App        Android App       2021-01-06      2021-01-17             2021-01-17              2021-01-06                       1.0000                        1.0000                            39.9900                           81.9800               [AKTIFCOCUK, COCUK]\n",
       "4  d6ea1074-f1f5-11e9-9346-000d3a38a36f       Desktop            Desktop       2019-08-03      2021-03-07             2021-03-07              2019-08-03                       1.0000                        1.0000                            49.9900                          159.9900                       [AKTIFSPOR]"
      ]
     },
     "execution_count": 2,
     "metadata": {},
     "output_type": "execute_result"
    }
   ],
   "source": [
    "df_ = pd.read_csv('../input/flo-rfm/flo_data_20k.csv')\n",
    "df = df_.copy()\n",
    "df.head()"
   ]
  },
  {
   "cell_type": "markdown",
   "id": "2347c153",
   "metadata": {
    "papermill": {
     "duration": 0.007241,
     "end_time": "2022-07-06T14:42:55.741635",
     "exception": false,
     "start_time": "2022-07-06T14:42:55.734394",
     "status": "completed"
    },
    "tags": []
   },
   "source": [
    "# Data Preparation"
   ]
  },
  {
   "cell_type": "code",
   "execution_count": 3,
   "id": "eee63288",
   "metadata": {
    "execution": {
     "iopub.execute_input": "2022-07-06T14:42:55.759318Z",
     "iopub.status.busy": "2022-07-06T14:42:55.758920Z",
     "iopub.status.idle": "2022-07-06T14:42:55.797287Z",
     "shell.execute_reply": "2022-07-06T14:42:55.796059Z"
    },
    "papermill": {
     "duration": 0.049892,
     "end_time": "2022-07-06T14:42:55.799556",
     "exception": false,
     "start_time": "2022-07-06T14:42:55.749664",
     "status": "completed"
    },
    "tags": []
   },
   "outputs": [
    {
     "data": {
      "text/html": [
       "<div>\n",
       "<style scoped>\n",
       "    .dataframe tbody tr th:only-of-type {\n",
       "        vertical-align: middle;\n",
       "    }\n",
       "\n",
       "    .dataframe tbody tr th {\n",
       "        vertical-align: top;\n",
       "    }\n",
       "\n",
       "    .dataframe thead th {\n",
       "        text-align: right;\n",
       "    }\n",
       "</style>\n",
       "<table border=\"1\" class=\"dataframe\">\n",
       "  <thead>\n",
       "    <tr style=\"text-align: right;\">\n",
       "      <th></th>\n",
       "      <th>order_num_total_ever_online</th>\n",
       "      <th>order_num_total_ever_offline</th>\n",
       "      <th>customer_value_total_ever_offline</th>\n",
       "      <th>customer_value_total_ever_online</th>\n",
       "    </tr>\n",
       "  </thead>\n",
       "  <tbody>\n",
       "    <tr>\n",
       "      <th>count</th>\n",
       "      <td>19945.0000</td>\n",
       "      <td>19945.0000</td>\n",
       "      <td>19945.0000</td>\n",
       "      <td>19945.0000</td>\n",
       "    </tr>\n",
       "    <tr>\n",
       "      <th>mean</th>\n",
       "      <td>3.1109</td>\n",
       "      <td>1.9139</td>\n",
       "      <td>253.9226</td>\n",
       "      <td>497.3217</td>\n",
       "    </tr>\n",
       "    <tr>\n",
       "      <th>std</th>\n",
       "      <td>4.2256</td>\n",
       "      <td>2.0629</td>\n",
       "      <td>301.5329</td>\n",
       "      <td>832.6019</td>\n",
       "    </tr>\n",
       "    <tr>\n",
       "      <th>min</th>\n",
       "      <td>1.0000</td>\n",
       "      <td>1.0000</td>\n",
       "      <td>10.0000</td>\n",
       "      <td>12.9900</td>\n",
       "    </tr>\n",
       "    <tr>\n",
       "      <th>25%</th>\n",
       "      <td>1.0000</td>\n",
       "      <td>1.0000</td>\n",
       "      <td>99.9900</td>\n",
       "      <td>149.9800</td>\n",
       "    </tr>\n",
       "    <tr>\n",
       "      <th>50%</th>\n",
       "      <td>2.0000</td>\n",
       "      <td>1.0000</td>\n",
       "      <td>179.9800</td>\n",
       "      <td>286.4600</td>\n",
       "    </tr>\n",
       "    <tr>\n",
       "      <th>75%</th>\n",
       "      <td>4.0000</td>\n",
       "      <td>2.0000</td>\n",
       "      <td>319.9700</td>\n",
       "      <td>578.4400</td>\n",
       "    </tr>\n",
       "    <tr>\n",
       "      <th>max</th>\n",
       "      <td>200.0000</td>\n",
       "      <td>109.0000</td>\n",
       "      <td>18119.1400</td>\n",
       "      <td>45220.1300</td>\n",
       "    </tr>\n",
       "  </tbody>\n",
       "</table>\n",
       "</div>"
      ],
      "text/plain": [
       "       order_num_total_ever_online  order_num_total_ever_offline  customer_value_total_ever_offline  customer_value_total_ever_online\n",
       "count                   19945.0000                    19945.0000                         19945.0000                        19945.0000\n",
       "mean                        3.1109                        1.9139                           253.9226                          497.3217\n",
       "std                         4.2256                        2.0629                           301.5329                          832.6019\n",
       "min                         1.0000                        1.0000                            10.0000                           12.9900\n",
       "25%                         1.0000                        1.0000                            99.9900                          149.9800\n",
       "50%                         2.0000                        1.0000                           179.9800                          286.4600\n",
       "75%                         4.0000                        2.0000                           319.9700                          578.4400\n",
       "max                       200.0000                      109.0000                         18119.1400                        45220.1300"
      ]
     },
     "execution_count": 3,
     "metadata": {},
     "output_type": "execute_result"
    }
   ],
   "source": [
    "df.describe()"
   ]
  },
  {
   "cell_type": "code",
   "execution_count": 4,
   "id": "e4151353",
   "metadata": {
    "execution": {
     "iopub.execute_input": "2022-07-06T14:42:55.816953Z",
     "iopub.status.busy": "2022-07-06T14:42:55.816269Z",
     "iopub.status.idle": "2022-07-06T14:42:55.823481Z",
     "shell.execute_reply": "2022-07-06T14:42:55.822295Z"
    },
    "papermill": {
     "duration": 0.018258,
     "end_time": "2022-07-06T14:42:55.825631",
     "exception": false,
     "start_time": "2022-07-06T14:42:55.807373",
     "status": "completed"
    },
    "tags": []
   },
   "outputs": [],
   "source": [
    "def outlier_thresholds(dataframe, variable):\n",
    "    quartile1 = dataframe[variable].quantile(0.01)\n",
    "    quartile3 = dataframe[variable].quantile(0.99)\n",
    "    interquantile_range = quartile3 - quartile1\n",
    "    up_limit = quartile3 + 1.5 * interquantile_range\n",
    "    low_limit = quartile1 - 1.5 * interquantile_range\n",
    "    return low_limit, up_limit\n",
    "\n",
    "\n",
    "def replace_with_thresholds(dataframe, variable):\n",
    "    low_limit, up_limit = outlier_thresholds(dataframe, variable)\n",
    "    dataframe.loc[(dataframe[variable] < low_limit), variable] = low_limit\n",
    "    dataframe.loc[(dataframe[variable] > up_limit), variable] = up_limit\n"
   ]
  },
  {
   "cell_type": "code",
   "execution_count": 5,
   "id": "fc1997dd",
   "metadata": {
    "execution": {
     "iopub.execute_input": "2022-07-06T14:42:55.843008Z",
     "iopub.status.busy": "2022-07-06T14:42:55.842274Z",
     "iopub.status.idle": "2022-07-06T14:42:55.861259Z",
     "shell.execute_reply": "2022-07-06T14:42:55.859972Z"
    },
    "papermill": {
     "duration": 0.03097,
     "end_time": "2022-07-06T14:42:55.864276",
     "exception": false,
     "start_time": "2022-07-06T14:42:55.833306",
     "status": "completed"
    },
    "tags": []
   },
   "outputs": [],
   "source": [
    "outlier_cols = [\"order_num_total_ever_online\", \"order_num_total_ever_offline\", \\\n",
    "                \"customer_value_total_ever_offline\",\"customer_value_total_ever_online\"]\n",
    "\n",
    "for col in outlier_cols:\n",
    "    replace_with_thresholds(df,col)"
   ]
  },
  {
   "cell_type": "code",
   "execution_count": 6,
   "id": "49f68909",
   "metadata": {
    "execution": {
     "iopub.execute_input": "2022-07-06T14:42:55.882201Z",
     "iopub.status.busy": "2022-07-06T14:42:55.881431Z",
     "iopub.status.idle": "2022-07-06T14:42:55.906298Z",
     "shell.execute_reply": "2022-07-06T14:42:55.905065Z"
    },
    "papermill": {
     "duration": 0.03653,
     "end_time": "2022-07-06T14:42:55.908775",
     "exception": false,
     "start_time": "2022-07-06T14:42:55.872245",
     "status": "completed"
    },
    "tags": []
   },
   "outputs": [
    {
     "data": {
      "text/html": [
       "<div>\n",
       "<style scoped>\n",
       "    .dataframe tbody tr th:only-of-type {\n",
       "        vertical-align: middle;\n",
       "    }\n",
       "\n",
       "    .dataframe tbody tr th {\n",
       "        vertical-align: top;\n",
       "    }\n",
       "\n",
       "    .dataframe thead th {\n",
       "        text-align: right;\n",
       "    }\n",
       "</style>\n",
       "<table border=\"1\" class=\"dataframe\">\n",
       "  <thead>\n",
       "    <tr style=\"text-align: right;\">\n",
       "      <th></th>\n",
       "      <th>order_num_total_ever_online</th>\n",
       "      <th>order_num_total_ever_offline</th>\n",
       "      <th>customer_value_total_ever_offline</th>\n",
       "      <th>customer_value_total_ever_online</th>\n",
       "    </tr>\n",
       "  </thead>\n",
       "  <tbody>\n",
       "    <tr>\n",
       "      <th>count</th>\n",
       "      <td>19945.0000</td>\n",
       "      <td>19945.0000</td>\n",
       "      <td>19945.0000</td>\n",
       "      <td>19945.0000</td>\n",
       "    </tr>\n",
       "    <tr>\n",
       "      <th>mean</th>\n",
       "      <td>3.0923</td>\n",
       "      <td>1.8862</td>\n",
       "      <td>251.9212</td>\n",
       "      <td>489.7054</td>\n",
       "    </tr>\n",
       "    <tr>\n",
       "      <th>std</th>\n",
       "      <td>3.8137</td>\n",
       "      <td>1.4347</td>\n",
       "      <td>251.0226</td>\n",
       "      <td>632.6064</td>\n",
       "    </tr>\n",
       "    <tr>\n",
       "      <th>min</th>\n",
       "      <td>1.0000</td>\n",
       "      <td>1.0000</td>\n",
       "      <td>10.0000</td>\n",
       "      <td>12.9900</td>\n",
       "    </tr>\n",
       "    <tr>\n",
       "      <th>25%</th>\n",
       "      <td>1.0000</td>\n",
       "      <td>1.0000</td>\n",
       "      <td>99.9900</td>\n",
       "      <td>149.9800</td>\n",
       "    </tr>\n",
       "    <tr>\n",
       "      <th>50%</th>\n",
       "      <td>2.0000</td>\n",
       "      <td>1.0000</td>\n",
       "      <td>179.9800</td>\n",
       "      <td>286.4600</td>\n",
       "    </tr>\n",
       "    <tr>\n",
       "      <th>75%</th>\n",
       "      <td>4.0000</td>\n",
       "      <td>2.0000</td>\n",
       "      <td>319.9700</td>\n",
       "      <td>578.4400</td>\n",
       "    </tr>\n",
       "    <tr>\n",
       "      <th>max</th>\n",
       "      <td>48.5000</td>\n",
       "      <td>16.0000</td>\n",
       "      <td>3019.8820</td>\n",
       "      <td>7799.5410</td>\n",
       "    </tr>\n",
       "  </tbody>\n",
       "</table>\n",
       "</div>"
      ],
      "text/plain": [
       "       order_num_total_ever_online  order_num_total_ever_offline  customer_value_total_ever_offline  customer_value_total_ever_online\n",
       "count                   19945.0000                    19945.0000                         19945.0000                        19945.0000\n",
       "mean                        3.0923                        1.8862                           251.9212                          489.7054\n",
       "std                         3.8137                        1.4347                           251.0226                          632.6064\n",
       "min                         1.0000                        1.0000                            10.0000                           12.9900\n",
       "25%                         1.0000                        1.0000                            99.9900                          149.9800\n",
       "50%                         2.0000                        1.0000                           179.9800                          286.4600\n",
       "75%                         4.0000                        2.0000                           319.9700                          578.4400\n",
       "max                        48.5000                       16.0000                          3019.8820                         7799.5410"
      ]
     },
     "execution_count": 6,
     "metadata": {},
     "output_type": "execute_result"
    }
   ],
   "source": [
    "df.describe()"
   ]
  },
  {
   "cell_type": "code",
   "execution_count": 7,
   "id": "8d21ffbf",
   "metadata": {
    "execution": {
     "iopub.execute_input": "2022-07-06T14:42:55.927347Z",
     "iopub.status.busy": "2022-07-06T14:42:55.926586Z",
     "iopub.status.idle": "2022-07-06T14:42:55.934056Z",
     "shell.execute_reply": "2022-07-06T14:42:55.933207Z"
    },
    "papermill": {
     "duration": 0.019798,
     "end_time": "2022-07-06T14:42:55.936394",
     "exception": false,
     "start_time": "2022-07-06T14:42:55.916596",
     "status": "completed"
    },
    "tags": []
   },
   "outputs": [],
   "source": [
    "# Creating total_order and total_value columns to keep sum of the online and offline sales\n",
    "\n",
    "df['total_order'] = (df.order_num_total_ever_online + df.order_num_total_ever_offline)\n",
    "\n",
    "df['total_value'] = (df.customer_value_total_ever_online + df.customer_value_total_ever_offline)"
   ]
  },
  {
   "cell_type": "code",
   "execution_count": 8,
   "id": "d01f94b7",
   "metadata": {
    "execution": {
     "iopub.execute_input": "2022-07-06T14:42:55.953948Z",
     "iopub.status.busy": "2022-07-06T14:42:55.953217Z",
     "iopub.status.idle": "2022-07-06T14:42:55.977907Z",
     "shell.execute_reply": "2022-07-06T14:42:55.976035Z"
    },
    "papermill": {
     "duration": 0.037124,
     "end_time": "2022-07-06T14:42:55.981215",
     "exception": false,
     "start_time": "2022-07-06T14:42:55.944091",
     "status": "completed"
    },
    "tags": []
   },
   "outputs": [
    {
     "name": "stdout",
     "output_type": "stream",
     "text": [
      "<class 'pandas.core.frame.DataFrame'>\n",
      "RangeIndex: 19945 entries, 0 to 19944\n",
      "Data columns (total 14 columns):\n",
      " #   Column                             Non-Null Count  Dtype  \n",
      "---  ------                             --------------  -----  \n",
      " 0   master_id                          19945 non-null  object \n",
      " 1   order_channel                      19945 non-null  object \n",
      " 2   last_order_channel                 19945 non-null  object \n",
      " 3   first_order_date                   19945 non-null  object \n",
      " 4   last_order_date                    19945 non-null  object \n",
      " 5   last_order_date_online             19945 non-null  object \n",
      " 6   last_order_date_offline            19945 non-null  object \n",
      " 7   order_num_total_ever_online        19945 non-null  float64\n",
      " 8   order_num_total_ever_offline       19945 non-null  float64\n",
      " 9   customer_value_total_ever_offline  19945 non-null  float64\n",
      " 10  customer_value_total_ever_online   19945 non-null  float64\n",
      " 11  interested_in_categories_12        19945 non-null  object \n",
      " 12  total_order                        19945 non-null  float64\n",
      " 13  total_value                        19945 non-null  float64\n",
      "dtypes: float64(6), object(8)\n",
      "memory usage: 2.1+ MB\n"
     ]
    }
   ],
   "source": [
    "df.info()"
   ]
  },
  {
   "cell_type": "code",
   "execution_count": 9,
   "id": "b66db1a9",
   "metadata": {
    "execution": {
     "iopub.execute_input": "2022-07-06T14:42:55.999056Z",
     "iopub.status.busy": "2022-07-06T14:42:55.998693Z",
     "iopub.status.idle": "2022-07-06T14:42:56.026055Z",
     "shell.execute_reply": "2022-07-06T14:42:56.025173Z"
    },
    "papermill": {
     "duration": 0.038899,
     "end_time": "2022-07-06T14:42:56.028480",
     "exception": false,
     "start_time": "2022-07-06T14:42:55.989581",
     "status": "completed"
    },
    "tags": []
   },
   "outputs": [],
   "source": [
    "# Changing the data type of the date columns to datetime\n",
    "\n",
    "for col in df.columns:\n",
    "    if 'date' in col:\n",
    "        df[col] = pd.to_datetime(df[col])"
   ]
  },
  {
   "cell_type": "code",
   "execution_count": 10,
   "id": "46224abe",
   "metadata": {
    "execution": {
     "iopub.execute_input": "2022-07-06T14:42:56.046622Z",
     "iopub.status.busy": "2022-07-06T14:42:56.045872Z",
     "iopub.status.idle": "2022-07-06T14:42:56.053925Z",
     "shell.execute_reply": "2022-07-06T14:42:56.053084Z"
    },
    "papermill": {
     "duration": 0.019325,
     "end_time": "2022-07-06T14:42:56.056031",
     "exception": false,
     "start_time": "2022-07-06T14:42:56.036706",
     "status": "completed"
    },
    "tags": []
   },
   "outputs": [
    {
     "data": {
      "text/plain": [
       "master_id                                    object\n",
       "order_channel                                object\n",
       "last_order_channel                           object\n",
       "first_order_date                     datetime64[ns]\n",
       "last_order_date                      datetime64[ns]\n",
       "last_order_date_online               datetime64[ns]\n",
       "last_order_date_offline              datetime64[ns]\n",
       "order_num_total_ever_online                 float64\n",
       "order_num_total_ever_offline                float64\n",
       "customer_value_total_ever_offline           float64\n",
       "customer_value_total_ever_online            float64\n",
       "interested_in_categories_12                  object\n",
       "total_order                                 float64\n",
       "total_value                                 float64\n",
       "dtype: object"
      ]
     },
     "execution_count": 10,
     "metadata": {},
     "output_type": "execute_result"
    }
   ],
   "source": [
    "df.dtypes"
   ]
  },
  {
   "cell_type": "markdown",
   "id": "6f6e20ee",
   "metadata": {
    "papermill": {
     "duration": 0.007723,
     "end_time": "2022-07-06T14:42:56.071707",
     "exception": false,
     "start_time": "2022-07-06T14:42:56.063984",
     "status": "completed"
    },
    "tags": []
   },
   "source": [
    "# CLTV Data Structure"
   ]
  },
  {
   "cell_type": "code",
   "execution_count": 11,
   "id": "a5dd98bc",
   "metadata": {
    "execution": {
     "iopub.execute_input": "2022-07-06T14:42:56.089643Z",
     "iopub.status.busy": "2022-07-06T14:42:56.088892Z",
     "iopub.status.idle": "2022-07-06T14:42:56.096700Z",
     "shell.execute_reply": "2022-07-06T14:42:56.095816Z"
    },
    "papermill": {
     "duration": 0.019317,
     "end_time": "2022-07-06T14:42:56.098912",
     "exception": false,
     "start_time": "2022-07-06T14:42:56.079595",
     "status": "completed"
    },
    "tags": []
   },
   "outputs": [
    {
     "data": {
      "text/plain": [
       "Timestamp('2021-06-01 00:00:00')"
      ]
     },
     "execution_count": 11,
     "metadata": {},
     "output_type": "execute_result"
    }
   ],
   "source": [
    "#setting an analysis date for more readable recency column\n",
    "\n",
    "analysis_date = df.last_order_date.max() + dt.timedelta(days=2)\n",
    "analysis_date"
   ]
  },
  {
   "cell_type": "code",
   "execution_count": 12,
   "id": "968f4226",
   "metadata": {
    "execution": {
     "iopub.execute_input": "2022-07-06T14:42:56.118136Z",
     "iopub.status.busy": "2022-07-06T14:42:56.117331Z",
     "iopub.status.idle": "2022-07-06T14:42:57.974736Z",
     "shell.execute_reply": "2022-07-06T14:42:57.973479Z"
    },
    "papermill": {
     "duration": 1.87065,
     "end_time": "2022-07-06T14:42:57.977573",
     "exception": false,
     "start_time": "2022-07-06T14:42:56.106923",
     "status": "completed"
    },
    "tags": []
   },
   "outputs": [],
   "source": [
    "recency = df.apply(lambda x : ((x.last_order_date - x.first_order_date).days) / 7,axis=1)\n",
    "\n",
    "monetary = df.apply(lambda x : x.total_value / x.total_order,axis=1)\n",
    "\n",
    "cltv = df.agg({'master_id' : lambda x: x,\n",
    "               'first_order_date': lambda date: ((analysis_date - date).days) / 7,\n",
    "               'total_order' : lambda x: x\n",
    "              })"
   ]
  },
  {
   "cell_type": "code",
   "execution_count": 13,
   "id": "790a5319",
   "metadata": {
    "execution": {
     "iopub.execute_input": "2022-07-06T14:42:57.996877Z",
     "iopub.status.busy": "2022-07-06T14:42:57.996249Z",
     "iopub.status.idle": "2022-07-06T14:42:58.004851Z",
     "shell.execute_reply": "2022-07-06T14:42:58.003487Z"
    },
    "papermill": {
     "duration": 0.021408,
     "end_time": "2022-07-06T14:42:58.007476",
     "exception": false,
     "start_time": "2022-07-06T14:42:57.986068",
     "status": "completed"
    },
    "tags": []
   },
   "outputs": [],
   "source": [
    "cltv = pd.concat([cltv,recency,monetary],axis=1)\n",
    "cltv.columns = ['customer_id','T_weekly','frequency','recency_cltv_weekly','monetary_cltv_avg']"
   ]
  },
  {
   "cell_type": "code",
   "execution_count": 14,
   "id": "8b30b392",
   "metadata": {
    "execution": {
     "iopub.execute_input": "2022-07-06T14:42:58.026172Z",
     "iopub.status.busy": "2022-07-06T14:42:58.025181Z",
     "iopub.status.idle": "2022-07-06T14:42:58.035973Z",
     "shell.execute_reply": "2022-07-06T14:42:58.034918Z"
    },
    "papermill": {
     "duration": 0.022859,
     "end_time": "2022-07-06T14:42:58.038420",
     "exception": false,
     "start_time": "2022-07-06T14:42:58.015561",
     "status": "completed"
    },
    "tags": []
   },
   "outputs": [
    {
     "data": {
      "text/html": [
       "<div>\n",
       "<style scoped>\n",
       "    .dataframe tbody tr th:only-of-type {\n",
       "        vertical-align: middle;\n",
       "    }\n",
       "\n",
       "    .dataframe tbody tr th {\n",
       "        vertical-align: top;\n",
       "    }\n",
       "\n",
       "    .dataframe thead th {\n",
       "        text-align: right;\n",
       "    }\n",
       "</style>\n",
       "<table border=\"1\" class=\"dataframe\">\n",
       "  <thead>\n",
       "    <tr style=\"text-align: right;\">\n",
       "      <th></th>\n",
       "      <th>customer_id</th>\n",
       "      <th>T_weekly</th>\n",
       "      <th>frequency</th>\n",
       "      <th>recency_cltv_weekly</th>\n",
       "      <th>monetary_cltv_avg</th>\n",
       "    </tr>\n",
       "  </thead>\n",
       "  <tbody>\n",
       "    <tr>\n",
       "      <th>0</th>\n",
       "      <td>cc294636-19f0-11eb-8d74-000d3a38a36f</td>\n",
       "      <td>30.5714</td>\n",
       "      <td>5.0000</td>\n",
       "      <td>17.0000</td>\n",
       "      <td>187.8740</td>\n",
       "    </tr>\n",
       "    <tr>\n",
       "      <th>1</th>\n",
       "      <td>f431bd5a-ab7b-11e9-a2fc-000d3a38a36f</td>\n",
       "      <td>224.8571</td>\n",
       "      <td>21.0000</td>\n",
       "      <td>209.8571</td>\n",
       "      <td>95.8833</td>\n",
       "    </tr>\n",
       "    <tr>\n",
       "      <th>2</th>\n",
       "      <td>69b69676-1a40-11ea-941b-000d3a38a36f</td>\n",
       "      <td>78.8571</td>\n",
       "      <td>5.0000</td>\n",
       "      <td>52.2857</td>\n",
       "      <td>117.0640</td>\n",
       "    </tr>\n",
       "    <tr>\n",
       "      <th>3</th>\n",
       "      <td>1854e56c-491f-11eb-806e-000d3a38a36f</td>\n",
       "      <td>20.8571</td>\n",
       "      <td>2.0000</td>\n",
       "      <td>1.5714</td>\n",
       "      <td>60.9850</td>\n",
       "    </tr>\n",
       "    <tr>\n",
       "      <th>4</th>\n",
       "      <td>d6ea1074-f1f5-11e9-9346-000d3a38a36f</td>\n",
       "      <td>95.4286</td>\n",
       "      <td>2.0000</td>\n",
       "      <td>83.1429</td>\n",
       "      <td>104.9900</td>\n",
       "    </tr>\n",
       "  </tbody>\n",
       "</table>\n",
       "</div>"
      ],
      "text/plain": [
       "                            customer_id  T_weekly  frequency  recency_cltv_weekly  monetary_cltv_avg\n",
       "0  cc294636-19f0-11eb-8d74-000d3a38a36f   30.5714     5.0000              17.0000           187.8740\n",
       "1  f431bd5a-ab7b-11e9-a2fc-000d3a38a36f  224.8571    21.0000             209.8571            95.8833\n",
       "2  69b69676-1a40-11ea-941b-000d3a38a36f   78.8571     5.0000              52.2857           117.0640\n",
       "3  1854e56c-491f-11eb-806e-000d3a38a36f   20.8571     2.0000               1.5714            60.9850\n",
       "4  d6ea1074-f1f5-11e9-9346-000d3a38a36f   95.4286     2.0000              83.1429           104.9900"
      ]
     },
     "execution_count": 14,
     "metadata": {},
     "output_type": "execute_result"
    }
   ],
   "source": [
    "cltv.head()"
   ]
  },
  {
   "cell_type": "markdown",
   "id": "777d4139",
   "metadata": {
    "papermill": {
     "duration": 0.007801,
     "end_time": "2022-07-06T14:42:58.054452",
     "exception": false,
     "start_time": "2022-07-06T14:42:58.046651",
     "status": "completed"
    },
    "tags": []
   },
   "source": [
    "### Fitting BG/NBD model"
   ]
  },
  {
   "cell_type": "code",
   "execution_count": 15,
   "id": "df52fa1a",
   "metadata": {
    "execution": {
     "iopub.execute_input": "2022-07-06T14:42:58.073576Z",
     "iopub.status.busy": "2022-07-06T14:42:58.072655Z",
     "iopub.status.idle": "2022-07-06T14:42:58.661379Z",
     "shell.execute_reply": "2022-07-06T14:42:58.660013Z"
    },
    "papermill": {
     "duration": 0.602268,
     "end_time": "2022-07-06T14:42:58.664851",
     "exception": false,
     "start_time": "2022-07-06T14:42:58.062583",
     "status": "completed"
    },
    "tags": []
   },
   "outputs": [
    {
     "data": {
      "text/plain": [
       "<lifetimes.BetaGeoFitter: fitted with 19945 subjects, a: 0.00, alpha: 76.17, b: 0.00, r: 3.66>"
      ]
     },
     "execution_count": 15,
     "metadata": {},
     "output_type": "execute_result"
    }
   ],
   "source": [
    "bgf = BetaGeoFitter(penalizer_coef=0.001)\n",
    "\n",
    "bgf.fit(cltv['frequency'],\n",
    "        cltv['recency_cltv_weekly'],\n",
    "        cltv['T_weekly'])"
   ]
  },
  {
   "cell_type": "markdown",
   "id": "4f02438c",
   "metadata": {
    "papermill": {
     "duration": 0.017107,
     "end_time": "2022-07-06T14:42:58.699568",
     "exception": false,
     "start_time": "2022-07-06T14:42:58.682461",
     "status": "completed"
    },
    "tags": []
   },
   "source": [
    "### Expected Number of Puchases with BG/NBD "
   ]
  },
  {
   "cell_type": "code",
   "execution_count": 16,
   "id": "028920bd",
   "metadata": {
    "execution": {
     "iopub.execute_input": "2022-07-06T14:42:58.735250Z",
     "iopub.status.busy": "2022-07-06T14:42:58.734619Z",
     "iopub.status.idle": "2022-07-06T14:42:58.771501Z",
     "shell.execute_reply": "2022-07-06T14:42:58.770195Z"
    },
    "papermill": {
     "duration": 0.059015,
     "end_time": "2022-07-06T14:42:58.775312",
     "exception": false,
     "start_time": "2022-07-06T14:42:58.716297",
     "status": "completed"
    },
    "tags": []
   },
   "outputs": [],
   "source": [
    "cltv['exp_sales_3_month'] = bgf.predict(12,\n",
    "            cltv['frequency'],\n",
    "            cltv['recency_cltv_weekly'],\n",
    "            cltv['T_weekly'])"
   ]
  },
  {
   "cell_type": "code",
   "execution_count": 17,
   "id": "2086cd1b",
   "metadata": {
    "execution": {
     "iopub.execute_input": "2022-07-06T14:42:58.794259Z",
     "iopub.status.busy": "2022-07-06T14:42:58.793462Z",
     "iopub.status.idle": "2022-07-06T14:42:58.813890Z",
     "shell.execute_reply": "2022-07-06T14:42:58.812585Z"
    },
    "papermill": {
     "duration": 0.032945,
     "end_time": "2022-07-06T14:42:58.816635",
     "exception": false,
     "start_time": "2022-07-06T14:42:58.783690",
     "status": "completed"
    },
    "tags": []
   },
   "outputs": [],
   "source": [
    "cltv['exp_sales_6_month'] = bgf.predict(24,\n",
    "            cltv['frequency'],\n",
    "            cltv['recency_cltv_weekly'],\n",
    "            cltv['T_weekly'])"
   ]
  },
  {
   "cell_type": "markdown",
   "id": "db0a4884",
   "metadata": {
    "papermill": {
     "duration": 0.008376,
     "end_time": "2022-07-06T14:42:58.833394",
     "exception": false,
     "start_time": "2022-07-06T14:42:58.825018",
     "status": "completed"
    },
    "tags": []
   },
   "source": [
    "### Fitting Gamma-Gamma Model"
   ]
  },
  {
   "cell_type": "code",
   "execution_count": 18,
   "id": "1b2fd209",
   "metadata": {
    "execution": {
     "iopub.execute_input": "2022-07-06T14:42:58.853331Z",
     "iopub.status.busy": "2022-07-06T14:42:58.852921Z",
     "iopub.status.idle": "2022-07-06T14:42:58.996469Z",
     "shell.execute_reply": "2022-07-06T14:42:58.995179Z"
    },
    "papermill": {
     "duration": 0.158082,
     "end_time": "2022-07-06T14:42:59.000040",
     "exception": false,
     "start_time": "2022-07-06T14:42:58.841958",
     "status": "completed"
    },
    "tags": []
   },
   "outputs": [
    {
     "data": {
      "text/plain": [
       "<lifetimes.GammaGammaFitter: fitted with 19945 subjects, p: 4.15, q: 0.47, v: 4.08>"
      ]
     },
     "execution_count": 18,
     "metadata": {},
     "output_type": "execute_result"
    }
   ],
   "source": [
    "ggf = GammaGammaFitter(penalizer_coef=0.01)\n",
    "\n",
    "ggf.fit(cltv['frequency'].astype(int), cltv['monetary_cltv_avg'])"
   ]
  },
  {
   "cell_type": "markdown",
   "id": "49b1795f",
   "metadata": {
    "papermill": {
     "duration": 0.016763,
     "end_time": "2022-07-06T14:42:59.033646",
     "exception": false,
     "start_time": "2022-07-06T14:42:59.016883",
     "status": "completed"
    },
    "tags": []
   },
   "source": [
    "### Expected Average Profit with Gamma-Gamma"
   ]
  },
  {
   "cell_type": "code",
   "execution_count": 19,
   "id": "d3103c4d",
   "metadata": {
    "execution": {
     "iopub.execute_input": "2022-07-06T14:42:59.072449Z",
     "iopub.status.busy": "2022-07-06T14:42:59.071336Z",
     "iopub.status.idle": "2022-07-06T14:42:59.081671Z",
     "shell.execute_reply": "2022-07-06T14:42:59.080358Z"
    },
    "papermill": {
     "duration": 0.033681,
     "end_time": "2022-07-06T14:42:59.085193",
     "exception": false,
     "start_time": "2022-07-06T14:42:59.051512",
     "status": "completed"
    },
    "tags": []
   },
   "outputs": [],
   "source": [
    "cltv['expected_average_profit'] = ggf.conditional_expected_average_profit(cltv['frequency'],\n",
    "                                                                          cltv['monetary_cltv_avg'])"
   ]
  },
  {
   "cell_type": "code",
   "execution_count": 20,
   "id": "1a12d907",
   "metadata": {
    "execution": {
     "iopub.execute_input": "2022-07-06T14:42:59.116075Z",
     "iopub.status.busy": "2022-07-06T14:42:59.115420Z",
     "iopub.status.idle": "2022-07-06T14:42:59.129768Z",
     "shell.execute_reply": "2022-07-06T14:42:59.128914Z"
    },
    "papermill": {
     "duration": 0.030129,
     "end_time": "2022-07-06T14:42:59.132128",
     "exception": false,
     "start_time": "2022-07-06T14:42:59.101999",
     "status": "completed"
    },
    "tags": []
   },
   "outputs": [
    {
     "data": {
      "text/html": [
       "<div>\n",
       "<style scoped>\n",
       "    .dataframe tbody tr th:only-of-type {\n",
       "        vertical-align: middle;\n",
       "    }\n",
       "\n",
       "    .dataframe tbody tr th {\n",
       "        vertical-align: top;\n",
       "    }\n",
       "\n",
       "    .dataframe thead th {\n",
       "        text-align: right;\n",
       "    }\n",
       "</style>\n",
       "<table border=\"1\" class=\"dataframe\">\n",
       "  <thead>\n",
       "    <tr style=\"text-align: right;\">\n",
       "      <th></th>\n",
       "      <th>customer_id</th>\n",
       "      <th>T_weekly</th>\n",
       "      <th>frequency</th>\n",
       "      <th>recency_cltv_weekly</th>\n",
       "      <th>monetary_cltv_avg</th>\n",
       "      <th>exp_sales_3_month</th>\n",
       "      <th>exp_sales_6_month</th>\n",
       "      <th>expected_average_profit</th>\n",
       "    </tr>\n",
       "  </thead>\n",
       "  <tbody>\n",
       "    <tr>\n",
       "      <th>0</th>\n",
       "      <td>cc294636-19f0-11eb-8d74-000d3a38a36f</td>\n",
       "      <td>30.5714</td>\n",
       "      <td>5.0000</td>\n",
       "      <td>17.0000</td>\n",
       "      <td>187.8740</td>\n",
       "      <td>0.9739</td>\n",
       "      <td>1.9479</td>\n",
       "      <td>193.6327</td>\n",
       "    </tr>\n",
       "    <tr>\n",
       "      <th>1</th>\n",
       "      <td>f431bd5a-ab7b-11e9-a2fc-000d3a38a36f</td>\n",
       "      <td>224.8571</td>\n",
       "      <td>21.0000</td>\n",
       "      <td>209.8571</td>\n",
       "      <td>95.8833</td>\n",
       "      <td>0.9832</td>\n",
       "      <td>1.9663</td>\n",
       "      <td>96.6650</td>\n",
       "    </tr>\n",
       "    <tr>\n",
       "      <th>2</th>\n",
       "      <td>69b69676-1a40-11ea-941b-000d3a38a36f</td>\n",
       "      <td>78.8571</td>\n",
       "      <td>5.0000</td>\n",
       "      <td>52.2857</td>\n",
       "      <td>117.0640</td>\n",
       "      <td>0.6706</td>\n",
       "      <td>1.3412</td>\n",
       "      <td>120.9676</td>\n",
       "    </tr>\n",
       "    <tr>\n",
       "      <th>3</th>\n",
       "      <td>1854e56c-491f-11eb-806e-000d3a38a36f</td>\n",
       "      <td>20.8571</td>\n",
       "      <td>2.0000</td>\n",
       "      <td>1.5714</td>\n",
       "      <td>60.9850</td>\n",
       "      <td>0.7004</td>\n",
       "      <td>1.4008</td>\n",
       "      <td>67.3201</td>\n",
       "    </tr>\n",
       "    <tr>\n",
       "      <th>4</th>\n",
       "      <td>d6ea1074-f1f5-11e9-9346-000d3a38a36f</td>\n",
       "      <td>95.4286</td>\n",
       "      <td>2.0000</td>\n",
       "      <td>83.1429</td>\n",
       "      <td>104.9900</td>\n",
       "      <td>0.3960</td>\n",
       "      <td>0.7921</td>\n",
       "      <td>114.3251</td>\n",
       "    </tr>\n",
       "  </tbody>\n",
       "</table>\n",
       "</div>"
      ],
      "text/plain": [
       "                            customer_id  T_weekly  frequency  recency_cltv_weekly  monetary_cltv_avg  exp_sales_3_month  exp_sales_6_month  expected_average_profit\n",
       "0  cc294636-19f0-11eb-8d74-000d3a38a36f   30.5714     5.0000              17.0000           187.8740             0.9739             1.9479                 193.6327\n",
       "1  f431bd5a-ab7b-11e9-a2fc-000d3a38a36f  224.8571    21.0000             209.8571            95.8833             0.9832             1.9663                  96.6650\n",
       "2  69b69676-1a40-11ea-941b-000d3a38a36f   78.8571     5.0000              52.2857           117.0640             0.6706             1.3412                 120.9676\n",
       "3  1854e56c-491f-11eb-806e-000d3a38a36f   20.8571     2.0000               1.5714            60.9850             0.7004             1.4008                  67.3201\n",
       "4  d6ea1074-f1f5-11e9-9346-000d3a38a36f   95.4286     2.0000              83.1429           104.9900             0.3960             0.7921                 114.3251"
      ]
     },
     "execution_count": 20,
     "metadata": {},
     "output_type": "execute_result"
    }
   ],
   "source": [
    "cltv.head()"
   ]
  },
  {
   "cell_type": "markdown",
   "id": "44998ccb",
   "metadata": {
    "papermill": {
     "duration": 0.008333,
     "end_time": "2022-07-06T14:42:59.149382",
     "exception": false,
     "start_time": "2022-07-06T14:42:59.141049",
     "status": "completed"
    },
    "tags": []
   },
   "source": [
    "### CLTV Values for 6 Month"
   ]
  },
  {
   "cell_type": "code",
   "execution_count": 21,
   "id": "24eeffd5",
   "metadata": {
    "execution": {
     "iopub.execute_input": "2022-07-06T14:42:59.169401Z",
     "iopub.status.busy": "2022-07-06T14:42:59.168256Z",
     "iopub.status.idle": "2022-07-06T14:42:59.174851Z",
     "shell.execute_reply": "2022-07-06T14:42:59.174054Z"
    },
    "papermill": {
     "duration": 0.018931,
     "end_time": "2022-07-06T14:42:59.176949",
     "exception": false,
     "start_time": "2022-07-06T14:42:59.158018",
     "status": "completed"
    },
    "tags": []
   },
   "outputs": [],
   "source": [
    "cltv['cltv'] = cltv.exp_sales_6_month * cltv.expected_average_profit"
   ]
  },
  {
   "cell_type": "code",
   "execution_count": 22,
   "id": "70244c85",
   "metadata": {
    "execution": {
     "iopub.execute_input": "2022-07-06T14:42:59.196150Z",
     "iopub.status.busy": "2022-07-06T14:42:59.195740Z",
     "iopub.status.idle": "2022-07-06T14:42:59.216238Z",
     "shell.execute_reply": "2022-07-06T14:42:59.215152Z"
    },
    "papermill": {
     "duration": 0.033108,
     "end_time": "2022-07-06T14:42:59.218753",
     "exception": false,
     "start_time": "2022-07-06T14:42:59.185645",
     "status": "completed"
    },
    "tags": []
   },
   "outputs": [
    {
     "data": {
      "text/html": [
       "<div>\n",
       "<style scoped>\n",
       "    .dataframe tbody tr th:only-of-type {\n",
       "        vertical-align: middle;\n",
       "    }\n",
       "\n",
       "    .dataframe tbody tr th {\n",
       "        vertical-align: top;\n",
       "    }\n",
       "\n",
       "    .dataframe thead th {\n",
       "        text-align: right;\n",
       "    }\n",
       "</style>\n",
       "<table border=\"1\" class=\"dataframe\">\n",
       "  <thead>\n",
       "    <tr style=\"text-align: right;\">\n",
       "      <th></th>\n",
       "      <th>customer_id</th>\n",
       "      <th>T_weekly</th>\n",
       "      <th>frequency</th>\n",
       "      <th>recency_cltv_weekly</th>\n",
       "      <th>monetary_cltv_avg</th>\n",
       "      <th>exp_sales_3_month</th>\n",
       "      <th>exp_sales_6_month</th>\n",
       "      <th>expected_average_profit</th>\n",
       "      <th>cltv</th>\n",
       "    </tr>\n",
       "  </thead>\n",
       "  <tbody>\n",
       "    <tr>\n",
       "      <th>9055</th>\n",
       "      <td>47a642fe-975b-11eb-8c2a-000d3a38a36f</td>\n",
       "      <td>7.8571</td>\n",
       "      <td>4.0000</td>\n",
       "      <td>2.8571</td>\n",
       "      <td>1401.7705</td>\n",
       "      <td>1.0944</td>\n",
       "      <td>2.1888</td>\n",
       "      <td>1449.0298</td>\n",
       "      <td>3171.5923</td>\n",
       "    </tr>\n",
       "    <tr>\n",
       "      <th>13880</th>\n",
       "      <td>7137a5c0-7aad-11ea-8f20-000d3a38a36f</td>\n",
       "      <td>13.1429</td>\n",
       "      <td>11.0000</td>\n",
       "      <td>6.1429</td>\n",
       "      <td>758.0437</td>\n",
       "      <td>1.9701</td>\n",
       "      <td>3.9402</td>\n",
       "      <td>767.3184</td>\n",
       "      <td>3023.3998</td>\n",
       "    </tr>\n",
       "    <tr>\n",
       "      <th>17323</th>\n",
       "      <td>f59053e2-a503-11e9-a2fc-000d3a38a36f</td>\n",
       "      <td>101.0000</td>\n",
       "      <td>7.0000</td>\n",
       "      <td>51.7143</td>\n",
       "      <td>1106.4671</td>\n",
       "      <td>0.7222</td>\n",
       "      <td>1.4445</td>\n",
       "      <td>1127.6115</td>\n",
       "      <td>1628.8076</td>\n",
       "    </tr>\n",
       "    <tr>\n",
       "      <th>12438</th>\n",
       "      <td>625f40a2-5bd2-11ea-98b0-000d3a38a36f</td>\n",
       "      <td>74.5714</td>\n",
       "      <td>16.0000</td>\n",
       "      <td>74.2857</td>\n",
       "      <td>501.8451</td>\n",
       "      <td>1.5653</td>\n",
       "      <td>3.1306</td>\n",
       "      <td>506.1377</td>\n",
       "      <td>1584.5239</td>\n",
       "    </tr>\n",
       "    <tr>\n",
       "      <th>7330</th>\n",
       "      <td>a4d534a2-5b1b-11eb-8dbd-000d3a38a36f</td>\n",
       "      <td>67.2857</td>\n",
       "      <td>52.5000</td>\n",
       "      <td>62.7143</td>\n",
       "      <td>164.6328</td>\n",
       "      <td>4.6980</td>\n",
       "      <td>9.3959</td>\n",
       "      <td>165.1119</td>\n",
       "      <td>1551.3788</td>\n",
       "    </tr>\n",
       "    <tr>\n",
       "      <th>8868</th>\n",
       "      <td>9ce6e520-89b0-11ea-a6e7-000d3a38a36f</td>\n",
       "      <td>34.4286</td>\n",
       "      <td>8.0000</td>\n",
       "      <td>3.4286</td>\n",
       "      <td>601.2262</td>\n",
       "      <td>1.2655</td>\n",
       "      <td>2.5309</td>\n",
       "      <td>611.4926</td>\n",
       "      <td>1547.6338</td>\n",
       "    </tr>\n",
       "    <tr>\n",
       "      <th>6402</th>\n",
       "      <td>851de3b4-8f0c-11eb-8cb8-000d3a38a36f</td>\n",
       "      <td>9.4286</td>\n",
       "      <td>2.0000</td>\n",
       "      <td>8.2857</td>\n",
       "      <td>862.6900</td>\n",
       "      <td>0.7939</td>\n",
       "      <td>1.5878</td>\n",
       "      <td>923.6797</td>\n",
       "      <td>1466.6624</td>\n",
       "    </tr>\n",
       "    <tr>\n",
       "      <th>6666</th>\n",
       "      <td>53fe00d4-7b7a-11eb-960b-000d3a38a36f</td>\n",
       "      <td>13.0000</td>\n",
       "      <td>17.0000</td>\n",
       "      <td>9.7143</td>\n",
       "      <td>259.8653</td>\n",
       "      <td>2.7807</td>\n",
       "      <td>5.5614</td>\n",
       "      <td>262.0729</td>\n",
       "      <td>1457.4865</td>\n",
       "    </tr>\n",
       "    <tr>\n",
       "      <th>19538</th>\n",
       "      <td>55d54d9e-8ac7-11ea-8ec0-000d3a38a36f</td>\n",
       "      <td>58.7143</td>\n",
       "      <td>31.0000</td>\n",
       "      <td>52.5714</td>\n",
       "      <td>228.5300</td>\n",
       "      <td>3.0838</td>\n",
       "      <td>6.1676</td>\n",
       "      <td>229.6069</td>\n",
       "      <td>1416.1141</td>\n",
       "    </tr>\n",
       "    <tr>\n",
       "      <th>14858</th>\n",
       "      <td>031b2954-6d28-11eb-99c4-000d3a38a36f</td>\n",
       "      <td>15.5714</td>\n",
       "      <td>3.0000</td>\n",
       "      <td>14.8571</td>\n",
       "      <td>743.5867</td>\n",
       "      <td>0.8716</td>\n",
       "      <td>1.7431</td>\n",
       "      <td>778.0503</td>\n",
       "      <td>1356.2416</td>\n",
       "    </tr>\n",
       "    <tr>\n",
       "      <th>17963</th>\n",
       "      <td>8fd88976-6708-11ea-9d38-000d3a38a36f</td>\n",
       "      <td>63.2857</td>\n",
       "      <td>7.0000</td>\n",
       "      <td>50.2857</td>\n",
       "      <td>694.1986</td>\n",
       "      <td>0.9176</td>\n",
       "      <td>1.8351</td>\n",
       "      <td>707.6856</td>\n",
       "      <td>1298.6824</td>\n",
       "    </tr>\n",
       "    <tr>\n",
       "      <th>15516</th>\n",
       "      <td>9083981a-f59e-11e9-841e-000d3a38a36f</td>\n",
       "      <td>83.8571</td>\n",
       "      <td>4.0000</td>\n",
       "      <td>63.5714</td>\n",
       "      <td>1090.3600</td>\n",
       "      <td>0.5746</td>\n",
       "      <td>1.1493</td>\n",
       "      <td>1127.3543</td>\n",
       "      <td>1295.6634</td>\n",
       "    </tr>\n",
       "    <tr>\n",
       "      <th>6717</th>\n",
       "      <td>40b4f318-9dfb-11eb-9c47-000d3a38a36f</td>\n",
       "      <td>33.8571</td>\n",
       "      <td>7.0000</td>\n",
       "      <td>27.1429</td>\n",
       "      <td>544.7000</td>\n",
       "      <td>1.1630</td>\n",
       "      <td>2.3259</td>\n",
       "      <td>555.4103</td>\n",
       "      <td>1291.8469</td>\n",
       "    </tr>\n",
       "    <tr>\n",
       "      <th>4157</th>\n",
       "      <td>7eed6468-4540-11ea-acaf-000d3a38a36f</td>\n",
       "      <td>90.0000</td>\n",
       "      <td>27.0000</td>\n",
       "      <td>89.1429</td>\n",
       "      <td>289.7641</td>\n",
       "      <td>2.2143</td>\n",
       "      <td>4.4287</td>\n",
       "      <td>291.2922</td>\n",
       "      <td>1290.0346</td>\n",
       "    </tr>\n",
       "    <tr>\n",
       "      <th>4735</th>\n",
       "      <td>dbabb58e-6312-11ea-a6dc-000d3a38a36f</td>\n",
       "      <td>64.2857</td>\n",
       "      <td>13.0000</td>\n",
       "      <td>61.2857</td>\n",
       "      <td>442.1154</td>\n",
       "      <td>1.4236</td>\n",
       "      <td>2.8473</td>\n",
       "      <td>446.8162</td>\n",
       "      <td>1272.2037</td>\n",
       "    </tr>\n",
       "    <tr>\n",
       "      <th>11694</th>\n",
       "      <td>90f1b7f2-bbad-11ea-a0c9-000d3a38a36f</td>\n",
       "      <td>48.0000</td>\n",
       "      <td>6.0000</td>\n",
       "      <td>47.2857</td>\n",
       "      <td>647.3450</td>\n",
       "      <td>0.9339</td>\n",
       "      <td>1.8677</td>\n",
       "      <td>662.1103</td>\n",
       "      <td>1236.6473</td>\n",
       "    </tr>\n",
       "    <tr>\n",
       "      <th>11179</th>\n",
       "      <td>d2e74a36-3228-11eb-860c-000d3a38a36f</td>\n",
       "      <td>26.2857</td>\n",
       "      <td>3.0000</td>\n",
       "      <td>1.1429</td>\n",
       "      <td>750.5700</td>\n",
       "      <td>0.7804</td>\n",
       "      <td>1.5608</td>\n",
       "      <td>785.3439</td>\n",
       "      <td>1225.8004</td>\n",
       "    </tr>\n",
       "    <tr>\n",
       "      <th>1853</th>\n",
       "      <td>f02473b0-43c3-11eb-806e-000d3a38a36f</td>\n",
       "      <td>23.1429</td>\n",
       "      <td>2.0000</td>\n",
       "      <td>17.2857</td>\n",
       "      <td>835.8750</td>\n",
       "      <td>0.6843</td>\n",
       "      <td>1.3686</td>\n",
       "      <td>895.0367</td>\n",
       "      <td>1224.9328</td>\n",
       "    </tr>\n",
       "    <tr>\n",
       "      <th>5775</th>\n",
       "      <td>e31293ac-d63a-11e9-93bc-000d3a38a36f</td>\n",
       "      <td>93.1429</td>\n",
       "      <td>8.0000</td>\n",
       "      <td>91.7143</td>\n",
       "      <td>727.0862</td>\n",
       "      <td>0.8266</td>\n",
       "      <td>1.6533</td>\n",
       "      <td>739.3933</td>\n",
       "      <td>1222.4056</td>\n",
       "    </tr>\n",
       "    <tr>\n",
       "      <th>7312</th>\n",
       "      <td>90befc98-925a-11eb-b584-000d3a38a36f</td>\n",
       "      <td>8.8571</td>\n",
       "      <td>6.0000</td>\n",
       "      <td>4.1429</td>\n",
       "      <td>431.3283</td>\n",
       "      <td>1.3638</td>\n",
       "      <td>2.7275</td>\n",
       "      <td>441.3982</td>\n",
       "      <td>1203.9304</td>\n",
       "    </tr>\n",
       "  </tbody>\n",
       "</table>\n",
       "</div>"
      ],
      "text/plain": [
       "                                customer_id  T_weekly  frequency  recency_cltv_weekly  monetary_cltv_avg  exp_sales_3_month  exp_sales_6_month  expected_average_profit      cltv\n",
       "9055   47a642fe-975b-11eb-8c2a-000d3a38a36f    7.8571     4.0000               2.8571          1401.7705             1.0944             2.1888                1449.0298 3171.5923\n",
       "13880  7137a5c0-7aad-11ea-8f20-000d3a38a36f   13.1429    11.0000               6.1429           758.0437             1.9701             3.9402                 767.3184 3023.3998\n",
       "17323  f59053e2-a503-11e9-a2fc-000d3a38a36f  101.0000     7.0000              51.7143          1106.4671             0.7222             1.4445                1127.6115 1628.8076\n",
       "12438  625f40a2-5bd2-11ea-98b0-000d3a38a36f   74.5714    16.0000              74.2857           501.8451             1.5653             3.1306                 506.1377 1584.5239\n",
       "7330   a4d534a2-5b1b-11eb-8dbd-000d3a38a36f   67.2857    52.5000              62.7143           164.6328             4.6980             9.3959                 165.1119 1551.3788\n",
       "8868   9ce6e520-89b0-11ea-a6e7-000d3a38a36f   34.4286     8.0000               3.4286           601.2262             1.2655             2.5309                 611.4926 1547.6338\n",
       "6402   851de3b4-8f0c-11eb-8cb8-000d3a38a36f    9.4286     2.0000               8.2857           862.6900             0.7939             1.5878                 923.6797 1466.6624\n",
       "6666   53fe00d4-7b7a-11eb-960b-000d3a38a36f   13.0000    17.0000               9.7143           259.8653             2.7807             5.5614                 262.0729 1457.4865\n",
       "19538  55d54d9e-8ac7-11ea-8ec0-000d3a38a36f   58.7143    31.0000              52.5714           228.5300             3.0838             6.1676                 229.6069 1416.1141\n",
       "14858  031b2954-6d28-11eb-99c4-000d3a38a36f   15.5714     3.0000              14.8571           743.5867             0.8716             1.7431                 778.0503 1356.2416\n",
       "17963  8fd88976-6708-11ea-9d38-000d3a38a36f   63.2857     7.0000              50.2857           694.1986             0.9176             1.8351                 707.6856 1298.6824\n",
       "15516  9083981a-f59e-11e9-841e-000d3a38a36f   83.8571     4.0000              63.5714          1090.3600             0.5746             1.1493                1127.3543 1295.6634\n",
       "6717   40b4f318-9dfb-11eb-9c47-000d3a38a36f   33.8571     7.0000              27.1429           544.7000             1.1630             2.3259                 555.4103 1291.8469\n",
       "4157   7eed6468-4540-11ea-acaf-000d3a38a36f   90.0000    27.0000              89.1429           289.7641             2.2143             4.4287                 291.2922 1290.0346\n",
       "4735   dbabb58e-6312-11ea-a6dc-000d3a38a36f   64.2857    13.0000              61.2857           442.1154             1.4236             2.8473                 446.8162 1272.2037\n",
       "11694  90f1b7f2-bbad-11ea-a0c9-000d3a38a36f   48.0000     6.0000              47.2857           647.3450             0.9339             1.8677                 662.1103 1236.6473\n",
       "11179  d2e74a36-3228-11eb-860c-000d3a38a36f   26.2857     3.0000               1.1429           750.5700             0.7804             1.5608                 785.3439 1225.8004\n",
       "1853   f02473b0-43c3-11eb-806e-000d3a38a36f   23.1429     2.0000              17.2857           835.8750             0.6843             1.3686                 895.0367 1224.9328\n",
       "5775   e31293ac-d63a-11e9-93bc-000d3a38a36f   93.1429     8.0000              91.7143           727.0862             0.8266             1.6533                 739.3933 1222.4056\n",
       "7312   90befc98-925a-11eb-b584-000d3a38a36f    8.8571     6.0000               4.1429           431.3283             1.3638             2.7275                 441.3982 1203.9304"
      ]
     },
     "execution_count": 22,
     "metadata": {},
     "output_type": "execute_result"
    }
   ],
   "source": [
    "# Top 20 customer with highest CLTV value\n",
    "cltv.sort_values(by='cltv',ascending=False).head(20)"
   ]
  },
  {
   "cell_type": "markdown",
   "id": "06750c84",
   "metadata": {
    "papermill": {
     "duration": 0.009284,
     "end_time": "2022-07-06T14:42:59.237275",
     "exception": false,
     "start_time": "2022-07-06T14:42:59.227991",
     "status": "completed"
    },
    "tags": []
   },
   "source": [
    "# Segmentation"
   ]
  },
  {
   "cell_type": "code",
   "execution_count": 23,
   "id": "f4aa6a51",
   "metadata": {
    "execution": {
     "iopub.execute_input": "2022-07-06T14:42:59.258281Z",
     "iopub.status.busy": "2022-07-06T14:42:59.257516Z",
     "iopub.status.idle": "2022-07-06T14:42:59.269281Z",
     "shell.execute_reply": "2022-07-06T14:42:59.268298Z"
    },
    "papermill": {
     "duration": 0.024826,
     "end_time": "2022-07-06T14:42:59.271740",
     "exception": false,
     "start_time": "2022-07-06T14:42:59.246914",
     "status": "completed"
    },
    "tags": []
   },
   "outputs": [],
   "source": [
    "cltv['segment'] = pd.qcut(cltv.cltv,4,list('DBCA'))"
   ]
  },
  {
   "cell_type": "code",
   "execution_count": 24,
   "id": "fa373fb1",
   "metadata": {
    "execution": {
     "iopub.execute_input": "2022-07-06T14:42:59.292182Z",
     "iopub.status.busy": "2022-07-06T14:42:59.291806Z",
     "iopub.status.idle": "2022-07-06T14:42:59.312264Z",
     "shell.execute_reply": "2022-07-06T14:42:59.311120Z"
    },
    "papermill": {
     "duration": 0.033679,
     "end_time": "2022-07-06T14:42:59.314552",
     "exception": false,
     "start_time": "2022-07-06T14:42:59.280873",
     "status": "completed"
    },
    "tags": []
   },
   "outputs": [
    {
     "data": {
      "text/html": [
       "<div>\n",
       "<style scoped>\n",
       "    .dataframe tbody tr th:only-of-type {\n",
       "        vertical-align: middle;\n",
       "    }\n",
       "\n",
       "    .dataframe tbody tr th {\n",
       "        vertical-align: top;\n",
       "    }\n",
       "\n",
       "    .dataframe thead th {\n",
       "        text-align: right;\n",
       "    }\n",
       "</style>\n",
       "<table border=\"1\" class=\"dataframe\">\n",
       "  <thead>\n",
       "    <tr style=\"text-align: right;\">\n",
       "      <th></th>\n",
       "      <th>customer_id</th>\n",
       "      <th>T_weekly</th>\n",
       "      <th>frequency</th>\n",
       "      <th>recency_cltv_weekly</th>\n",
       "      <th>monetary_cltv_avg</th>\n",
       "      <th>exp_sales_3_month</th>\n",
       "      <th>exp_sales_6_month</th>\n",
       "      <th>expected_average_profit</th>\n",
       "      <th>cltv</th>\n",
       "      <th>segment</th>\n",
       "    </tr>\n",
       "  </thead>\n",
       "  <tbody>\n",
       "    <tr>\n",
       "      <th>0</th>\n",
       "      <td>cc294636-19f0-11eb-8d74-000d3a38a36f</td>\n",
       "      <td>30.5714</td>\n",
       "      <td>5.0000</td>\n",
       "      <td>17.0000</td>\n",
       "      <td>187.8740</td>\n",
       "      <td>0.9739</td>\n",
       "      <td>1.9479</td>\n",
       "      <td>193.6327</td>\n",
       "      <td>377.1680</td>\n",
       "      <td>A</td>\n",
       "    </tr>\n",
       "    <tr>\n",
       "      <th>1</th>\n",
       "      <td>f431bd5a-ab7b-11e9-a2fc-000d3a38a36f</td>\n",
       "      <td>224.8571</td>\n",
       "      <td>21.0000</td>\n",
       "      <td>209.8571</td>\n",
       "      <td>95.8833</td>\n",
       "      <td>0.9832</td>\n",
       "      <td>1.9663</td>\n",
       "      <td>96.6650</td>\n",
       "      <td>190.0747</td>\n",
       "      <td>C</td>\n",
       "    </tr>\n",
       "    <tr>\n",
       "      <th>2</th>\n",
       "      <td>69b69676-1a40-11ea-941b-000d3a38a36f</td>\n",
       "      <td>78.8571</td>\n",
       "      <td>5.0000</td>\n",
       "      <td>52.2857</td>\n",
       "      <td>117.0640</td>\n",
       "      <td>0.6706</td>\n",
       "      <td>1.3412</td>\n",
       "      <td>120.9676</td>\n",
       "      <td>162.2384</td>\n",
       "      <td>C</td>\n",
       "    </tr>\n",
       "    <tr>\n",
       "      <th>3</th>\n",
       "      <td>1854e56c-491f-11eb-806e-000d3a38a36f</td>\n",
       "      <td>20.8571</td>\n",
       "      <td>2.0000</td>\n",
       "      <td>1.5714</td>\n",
       "      <td>60.9850</td>\n",
       "      <td>0.7004</td>\n",
       "      <td>1.4008</td>\n",
       "      <td>67.3201</td>\n",
       "      <td>94.3036</td>\n",
       "      <td>D</td>\n",
       "    </tr>\n",
       "    <tr>\n",
       "      <th>4</th>\n",
       "      <td>d6ea1074-f1f5-11e9-9346-000d3a38a36f</td>\n",
       "      <td>95.4286</td>\n",
       "      <td>2.0000</td>\n",
       "      <td>83.1429</td>\n",
       "      <td>104.9900</td>\n",
       "      <td>0.3960</td>\n",
       "      <td>0.7921</td>\n",
       "      <td>114.3251</td>\n",
       "      <td>90.5543</td>\n",
       "      <td>D</td>\n",
       "    </tr>\n",
       "    <tr>\n",
       "      <th>...</th>\n",
       "      <td>...</td>\n",
       "      <td>...</td>\n",
       "      <td>...</td>\n",
       "      <td>...</td>\n",
       "      <td>...</td>\n",
       "      <td>...</td>\n",
       "      <td>...</td>\n",
       "      <td>...</td>\n",
       "      <td>...</td>\n",
       "      <td>...</td>\n",
       "    </tr>\n",
       "    <tr>\n",
       "      <th>19940</th>\n",
       "      <td>727e2b6e-ddd4-11e9-a848-000d3a38a36f</td>\n",
       "      <td>88.4286</td>\n",
       "      <td>3.0000</td>\n",
       "      <td>41.1429</td>\n",
       "      <td>133.9867</td>\n",
       "      <td>0.4858</td>\n",
       "      <td>0.9716</td>\n",
       "      <td>141.3604</td>\n",
       "      <td>137.3414</td>\n",
       "      <td>B</td>\n",
       "    </tr>\n",
       "    <tr>\n",
       "      <th>19941</th>\n",
       "      <td>25cd53d4-61bf-11ea-8dd8-000d3a38a36f</td>\n",
       "      <td>65.2857</td>\n",
       "      <td>2.0000</td>\n",
       "      <td>42.2857</td>\n",
       "      <td>195.2350</td>\n",
       "      <td>0.4804</td>\n",
       "      <td>0.9609</td>\n",
       "      <td>210.7224</td>\n",
       "      <td>202.4744</td>\n",
       "      <td>C</td>\n",
       "    </tr>\n",
       "    <tr>\n",
       "      <th>19942</th>\n",
       "      <td>8aea4c2a-d6fc-11e9-93bc-000d3a38a36f</td>\n",
       "      <td>89.8571</td>\n",
       "      <td>3.0000</td>\n",
       "      <td>88.7143</td>\n",
       "      <td>210.9800</td>\n",
       "      <td>0.4816</td>\n",
       "      <td>0.9632</td>\n",
       "      <td>221.7752</td>\n",
       "      <td>213.6160</td>\n",
       "      <td>C</td>\n",
       "    </tr>\n",
       "    <tr>\n",
       "      <th>19943</th>\n",
       "      <td>e50bb46c-ff30-11e9-a5e8-000d3a38a36f</td>\n",
       "      <td>113.8571</td>\n",
       "      <td>6.0000</td>\n",
       "      <td>98.4286</td>\n",
       "      <td>168.2950</td>\n",
       "      <td>0.6102</td>\n",
       "      <td>1.2204</td>\n",
       "      <td>172.6474</td>\n",
       "      <td>210.7073</td>\n",
       "      <td>C</td>\n",
       "    </tr>\n",
       "    <tr>\n",
       "      <th>19944</th>\n",
       "      <td>740998d2-b1f7-11e9-89fa-000d3a38a36f</td>\n",
       "      <td>91.0000</td>\n",
       "      <td>2.0000</td>\n",
       "      <td>39.5714</td>\n",
       "      <td>130.9850</td>\n",
       "      <td>0.4065</td>\n",
       "      <td>0.8131</td>\n",
       "      <td>142.0922</td>\n",
       "      <td>115.5296</td>\n",
       "      <td>B</td>\n",
       "    </tr>\n",
       "  </tbody>\n",
       "</table>\n",
       "<p>19945 rows × 10 columns</p>\n",
       "</div>"
      ],
      "text/plain": [
       "                                customer_id  T_weekly  frequency  recency_cltv_weekly  monetary_cltv_avg  exp_sales_3_month  exp_sales_6_month  expected_average_profit     cltv segment\n",
       "0      cc294636-19f0-11eb-8d74-000d3a38a36f   30.5714     5.0000              17.0000           187.8740             0.9739             1.9479                 193.6327 377.1680       A\n",
       "1      f431bd5a-ab7b-11e9-a2fc-000d3a38a36f  224.8571    21.0000             209.8571            95.8833             0.9832             1.9663                  96.6650 190.0747       C\n",
       "2      69b69676-1a40-11ea-941b-000d3a38a36f   78.8571     5.0000              52.2857           117.0640             0.6706             1.3412                 120.9676 162.2384       C\n",
       "3      1854e56c-491f-11eb-806e-000d3a38a36f   20.8571     2.0000               1.5714            60.9850             0.7004             1.4008                  67.3201  94.3036       D\n",
       "4      d6ea1074-f1f5-11e9-9346-000d3a38a36f   95.4286     2.0000              83.1429           104.9900             0.3960             0.7921                 114.3251  90.5543       D\n",
       "...                                     ...       ...        ...                  ...                ...                ...                ...                      ...      ...     ...\n",
       "19940  727e2b6e-ddd4-11e9-a848-000d3a38a36f   88.4286     3.0000              41.1429           133.9867             0.4858             0.9716                 141.3604 137.3414       B\n",
       "19941  25cd53d4-61bf-11ea-8dd8-000d3a38a36f   65.2857     2.0000              42.2857           195.2350             0.4804             0.9609                 210.7224 202.4744       C\n",
       "19942  8aea4c2a-d6fc-11e9-93bc-000d3a38a36f   89.8571     3.0000              88.7143           210.9800             0.4816             0.9632                 221.7752 213.6160       C\n",
       "19943  e50bb46c-ff30-11e9-a5e8-000d3a38a36f  113.8571     6.0000              98.4286           168.2950             0.6102             1.2204                 172.6474 210.7073       C\n",
       "19944  740998d2-b1f7-11e9-89fa-000d3a38a36f   91.0000     2.0000              39.5714           130.9850             0.4065             0.8131                 142.0922 115.5296       B\n",
       "\n",
       "[19945 rows x 10 columns]"
      ]
     },
     "execution_count": 24,
     "metadata": {},
     "output_type": "execute_result"
    }
   ],
   "source": [
    "cltv"
   ]
  }
 ],
 "metadata": {
  "kernelspec": {
   "display_name": "Python 3",
   "language": "python",
   "name": "python3"
  },
  "language_info": {
   "codemirror_mode": {
    "name": "ipython",
    "version": 3
   },
   "file_extension": ".py",
   "mimetype": "text/x-python",
   "name": "python",
   "nbconvert_exporter": "python",
   "pygments_lexer": "ipython3",
   "version": "3.7.12"
  },
  "papermill": {
   "default_parameters": {},
   "duration": 28.275118,
   "end_time": "2022-07-06T14:43:00.045269",
   "environment_variables": {},
   "exception": null,
   "input_path": "__notebook__.ipynb",
   "output_path": "__notebook__.ipynb",
   "parameters": {},
   "start_time": "2022-07-06T14:42:31.770151",
   "version": "2.3.4"
  }
 },
 "nbformat": 4,
 "nbformat_minor": 5
}
